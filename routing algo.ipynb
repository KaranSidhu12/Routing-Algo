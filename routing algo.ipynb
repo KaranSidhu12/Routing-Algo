{
 "cells": [
  {
   "cell_type": "code",
   "execution_count": 1,
   "id": "55325557",
   "metadata": {},
   "outputs": [
    {
     "name": "stdout",
     "output_type": "stream",
     "text": [
      "Packet from 192.168.1.2 forwarded to 192.168.1.1\n",
      "Packet from 192.168.1.2 forwarded to 10.0.0.1\n",
      "ARP request: Resolving MAC for 192.168.1.3\n",
      "ARP response: 192.168.1.3 is at MAC_3\n",
      "ARP request: Resolving MAC for 10.0.0.2\n",
      "ARP response: 10.0.0.2 is at MAC_2\n"
     ]
    },
    {
     "data": {
      "text/plain": [
       "'MAC_2'"
      ]
     },
     "execution_count": 1,
     "metadata": {},
     "output_type": "execute_result"
    }
   ],
   "source": [
    "class Device:\n",
    "    def __init__(self, ip_address, mac_address):\n",
    "        self.ip_address = ip_address\n",
    "        self.mac_address = mac_address\n",
    "\n",
    "class Router:\n",
    "    def __init__(self):\n",
    "        self.routing_table = {}\n",
    "        self.arp_table = {}\n",
    "\n",
    "    def add_route(self, network, next_hop):\n",
    "        self.routing_table[network] = next_hop\n",
    "\n",
    "    def forward_packet(self, packet):\n",
    "        # Simulate TTL expiration\n",
    "        if packet.ttl == 0:\n",
    "            print(f\"Packet from {packet.source_ip} dropped: TTL expired\")\n",
    "            return\n",
    "        \n",
    "        # Find next hop in routing table\n",
    "        for network, next_hop in self.routing_table.items():\n",
    "            if packet.destination_ip.startswith(network):\n",
    "                print(f\"Packet from {packet.source_ip} forwarded to {next_hop}\")\n",
    "                packet.ttl -= 1\n",
    "                return\n",
    "        \n",
    "        print(f\"Packet from {packet.source_ip} dropped: No route to {packet.destination_ip}\")\n",
    "        \n",
    "    def resolve_mac(self, ip_address):\n",
    "        if ip_address in self.arp_table:\n",
    "            return self.arp_table[ip_address]\n",
    "        else:\n",
    "            # Simulate ARP request and response\n",
    "            print(f\"ARP request: Resolving MAC for {ip_address}\")\n",
    "            mac_address = f\"MAC_{ip_address.split('.')[-1]}\"  # Simple simulated MAC address\n",
    "            self.arp_table[ip_address] = mac_address\n",
    "            print(f\"ARP response: {ip_address} is at {mac_address}\")\n",
    "            return mac_address\n",
    "\n",
    "class Packet:\n",
    "    def __init__(self, source_ip, destination_ip, ttl=64):\n",
    "        self.source_ip = source_ip\n",
    "        self.destination_ip = destination_ip\n",
    "        self.ttl = ttl\n",
    "\n",
    "# Example setup and simulation\n",
    "device1 = Device(\"192.168.1.2\", \"MAC_1\")\n",
    "device2 = Device(\"192.168.1.3\", \"MAC_2\")\n",
    "device3 = Device(\"10.0.0.2\", \"MAC_3\")\n",
    "\n",
    "router = Router()\n",
    "router.add_route(\"192.168.1\", \"192.168.1.1\")  # Adding static route\n",
    "router.add_route(\"10.0.0\", \"10.0.0.1\")        # Adding another static route\n",
    "\n",
    "# Packet from device1 to device2 (in same network)\n",
    "packet1 = Packet(\"192.168.1.2\", \"192.168.1.3\")\n",
    "router.forward_packet(packet1)\n",
    "\n",
    "# Packet from device1 to device3 (different network, route needed)\n",
    "packet2 = Packet(\"192.168.1.2\", \"10.0.0.2\")\n",
    "router.forward_packet(packet2)\n",
    "\n",
    "# ARP resolution example\n",
    "router.resolve_mac(\"192.168.1.3\")\n",
    "router.resolve_mac(\"10.0.0.2\")\n"
   ]
  },
  {
   "cell_type": "code",
   "execution_count": null,
   "id": "a5b6f3bd",
   "metadata": {},
   "outputs": [],
   "source": []
  }
 ],
 "metadata": {
  "kernelspec": {
   "display_name": "Python 3 (ipykernel)",
   "language": "python",
   "name": "python3"
  },
  "language_info": {
   "codemirror_mode": {
    "name": "ipython",
    "version": 3
   },
   "file_extension": ".py",
   "mimetype": "text/x-python",
   "name": "python",
   "nbconvert_exporter": "python",
   "pygments_lexer": "ipython3",
   "version": "3.9.13"
  }
 },
 "nbformat": 4,
 "nbformat_minor": 5
}
